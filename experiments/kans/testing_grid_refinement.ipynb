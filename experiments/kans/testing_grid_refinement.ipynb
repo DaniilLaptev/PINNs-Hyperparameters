{
 "cells": [
  {
   "cell_type": "code",
   "execution_count": 12,
   "metadata": {},
   "outputs": [],
   "source": [
    "import sys\n",
    "import os\n",
    "\n",
    "current_dir = os.getcwd()\n",
    "\n",
    "project_root = os.path.abspath(os.path.join(os.path.dirname(current_dir), '..'))\n",
    "if project_root not in sys.path:\n",
    "    sys.path.append(project_root)\n",
    "\n",
    "import pinns\n",
    "\n",
    "# For cleaner output.\n",
    "import warnings\n",
    "warnings.filterwarnings(\"ignore\", category=UserWarning)"
   ]
  },
  {
   "cell_type": "code",
   "execution_count": 13,
   "metadata": {},
   "outputs": [],
   "source": [
    "import torch\n",
    "import torch.nn as nn\n",
    "\n",
    "import numpy as np \n",
    "\n",
    "import matplotlib.pyplot as plt\n",
    "\n",
    "import time\n",
    "\n",
    "from pinns import Trainer\n",
    "from pinns.models import FF, KAN\n",
    "from pinns.errors import l2\n",
    "from pinns.optimizers import Adam\n",
    "from pinns.derivatives import Derivative\n",
    "from pinns.samplers import RandomSampler, ConstantSampler, DataSampler\n",
    "\n",
    "from prettytable import PrettyTable"
   ]
  },
  {
   "cell_type": "code",
   "execution_count": 23,
   "metadata": {},
   "outputs": [
    {
     "data": {
      "text/plain": [
       "17"
      ]
     },
     "execution_count": 23,
     "metadata": {},
     "output_type": "execute_result"
    }
   ],
   "source": [
    "gridits = [\n",
    "    [(2, 500)],\n",
    "    [(5, 500)],\n",
    "    [(10, 500)],\n",
    "    [(20, 500)],\n",
    "    [(2, 150), (5, 350)],\n",
    "    [(2, 150), (20, 350)],\n",
    "    [(5, 150), (10, 350)],\n",
    "    [(5, 150), (20, 350)],\n",
    "    [(10, 150), (20, 350)],\n",
    "    [(2, 250), (5, 250)],\n",
    "    [(2, 250), (10, 250)],\n",
    "    [(2, 250), (20, 250)],\n",
    "    [(5, 250), (20, 250)],\n",
    "    [(10, 250), (20, 250)],\n",
    "    [(2, 350), (5, 350)],\n",
    "    [(5, 350), (20, 150)],\n",
    "    [(2, 450), (10, 50)],\n",
    "]\n",
    "\n",
    "len(gridits)"
   ]
  },
  {
   "cell_type": "markdown",
   "metadata": {},
   "source": [
    "---\n",
    "## Damped Harmonic Oscillator"
   ]
  },
  {
   "cell_type": "code",
   "execution_count": 15,
   "metadata": {},
   "outputs": [],
   "source": [
    "from scipy.integrate import solve_ivp\n",
    "\n",
    "def dho(t, y, zeta, omega):\n",
    "    x, v = y\n",
    "    dxdt = v\n",
    "    dvdt = -2 * zeta * omega * v - omega**2 * x\n",
    "    return [dxdt, dvdt]\n",
    "\n",
    "T = 10              # We need to fix some computational domain.\n",
    "p = (0.2, 2.0)      # Parameters that yields interesting function.\n",
    "x0, v0 = 5.0, 7.0   # Initial values may be arbitrary.\n",
    "\n",
    "t = torch.linspace(0, T, 128)\n",
    "solution = solve_ivp(dho, (0, T), (x0, v0), t_eval=t, args=p).y[0]"
   ]
  },
  {
   "cell_type": "code",
   "execution_count": 16,
   "metadata": {},
   "outputs": [],
   "source": [
    "from pinns.samplers import ConstantSampler, RandomSampler\n",
    "\n",
    "# Constraints (training data) sampler must return tuple (points, values).\n",
    "dho_constraints_sampler = ConstantSampler((\n",
    "    torch.tensor([[0.]], requires_grad=True),\n",
    "    torch.tensor([x0, v0])\n",
    "))\n",
    "\n",
    "# Collocation sampler must return just tensor of shape [num_pts, coords].\n",
    "dho_domain = {'t': [0, T]}\n",
    "dho_collocation_sampler = RandomSampler(dho_domain, 256, return_dict=False)\n",
    "\n",
    "# Test points sampler must return tuple (points, values) of shape [num_pts, coords].\n",
    "dho_test_points_sampler = ConstantSampler(\n",
    "    (t.reshape(-1, 1), solution.reshape(-1, 1))\n",
    "    )"
   ]
  },
  {
   "cell_type": "code",
   "execution_count": 17,
   "metadata": {},
   "outputs": [],
   "source": [
    "d = Derivative(method = 'autograd')\n",
    "\n",
    "def dho_loss(\n",
    "    cstr_pts, cstr_pred, cstr_vals,\n",
    "    coll_pts, coll_pred,\n",
    "    zeta = 0.2, omega = 2.0\n",
    "    ):\n",
    "    \n",
    "    def init_loss(x0, t0):\n",
    "        v0 = d(x0, t0)\n",
    "        return torch.mean(torch.square(torch.hstack([x0, v0]) - cstr_vals))\n",
    "\n",
    "    def ode_loss(x, t):\n",
    "        v, a = d(x, t, orders = [1, 2])\n",
    "        return torch.mean(torch.square(a + 2 * zeta * omega * v + omega**2 * x))\n",
    "    \n",
    "    losses = (\n",
    "        init_loss(cstr_pred, cstr_pts),\n",
    "        ode_loss(coll_pred, coll_pts)\n",
    "    )\n",
    "    \n",
    "    return losses"
   ]
  },
  {
   "cell_type": "code",
   "execution_count": 18,
   "metadata": {},
   "outputs": [],
   "source": [
    "def train_dho(gridit, lr = 1e-2, loss_coefs = [0.8, 0.2], plot = True):\n",
    "    \n",
    "    pinn = KAN([1, 5, 1], grid = 5)\n",
    "    \n",
    "    trainer = Trainer(\n",
    "        dho_loss,\n",
    "        pinn,\n",
    "        dho_constraints_sampler,\n",
    "        dho_collocation_sampler,\n",
    "        loss_coefs=loss_coefs,    # Coefficients are very important.\n",
    "        test_points_sampler=dho_test_points_sampler\n",
    "    )\n",
    "    \n",
    "    for i, (grid, it) in enumerate(gridit):\n",
    "    \n",
    "        pts, _ = dho_test_points_sampler()\n",
    "\n",
    "        pinn = KAN([1, 5, 1], grid = grid).initialize_from_another_model(trainer.model, pts)\n",
    "        trainer.model = pinn\n",
    "            \n",
    "        adam = Adam(pinn, lr = lr)\n",
    "        \n",
    "        # trainer.iter += 1\n",
    "        trainer.train(\n",
    "            num_iters = it,\n",
    "            optimizers=[(0, adam)],\n",
    "            validate_every=1,\n",
    "            show_progress=True\n",
    "        )\n",
    "    \n",
    "    error = trainer.evaluate(l2)\n",
    "    # print(f'Error is {error:.5f}')\n",
    "    \n",
    "    if plot:\n",
    "        fig, axs = plt.subplots(1, 2, figsize=(10, 3))\n",
    "\n",
    "        axs[0].plot(trainer.loss_history, label='Loss')\n",
    "        axs[0].plot(trainer.error_history, label='L2')\n",
    "        axs[0].grid()\n",
    "        axs[0].set_yscale('log')\n",
    "        axs[0].legend()\n",
    "\n",
    "        preds = pinn.predict(t.reshape(-1, 1))\n",
    "        axs[1].plot(t, solution, label='Solution')\n",
    "        axs[1].plot(t, preds.detach(), label='Predicts', linestyle=':')\n",
    "        axs[1].grid()\n",
    "        axs[1].legend()\n",
    "\n",
    "        plt.show()\n",
    "    \n",
    "    return error, trainer.loss_history"
   ]
  },
  {
   "cell_type": "markdown",
   "metadata": {},
   "source": [
    "---\n",
    "## Diffusion 1D"
   ]
  },
  {
   "cell_type": "code",
   "execution_count": 19,
   "metadata": {},
   "outputs": [],
   "source": [
    "path = './examples/diff1d/'\n",
    "\n",
    "def get_data(path):\n",
    "    init = torch.tensor(np.load(path + 'init_data.npy'))\n",
    "    left = torch.tensor(np.load(path + 'left_data.npy'))\n",
    "    right = torch.tensor(np.load(path + 'right_data.npy'))\n",
    "    \n",
    "    return ([init[:,  :2], left[:,  :2], right[:,  :2]], \n",
    "            [init[:, [2]], left[:, [2]], right[:, [2]]])\n",
    "\n",
    "diff_constraints_sampler = ConstantSampler(get_data(path))\n",
    "\n",
    "diff_domain = {'t': [0, 0.5], 'x': [0, 1]}\n",
    "diff_collocation_sampler = RandomSampler(diff_domain, 2048, return_dict=True)\n",
    "\n",
    "diff_test_points_sampler = DataSampler(path + 'solution.npy', 1024, 2)"
   ]
  },
  {
   "cell_type": "code",
   "execution_count": 20,
   "metadata": {},
   "outputs": [],
   "source": [
    "d = Derivative(method='autograd')\n",
    "\n",
    "def diff_loss(\n",
    "    cstr_pts, cstr_pred, cstr_vals,\n",
    "    coll_pts, coll_pred,\n",
    "    D = 0.5\n",
    "    ):\n",
    "    \n",
    "    # We do not need left and right because we are solving \n",
    "    # Dirichlet problem and we just compare predictions and \n",
    "    # solution. If we solve Cauchy or Robin problem, we \n",
    "    # need to calculate derivatives at boundary points.\n",
    "    \n",
    "    init_pts, left_pts, right_pts = cstr_pts\n",
    "    init_pred, left_pred, right_pred = cstr_pred\n",
    "    init_vals, left_vals, right_vals = cstr_vals\n",
    "    \n",
    "    # If we use RandomSampler, we are unable to split values\n",
    "    # like that. But it is just for clarity.\n",
    "    \n",
    "    t, x = coll_pts['t'], coll_pts['x']\n",
    "    \n",
    "    def initial_loss():\n",
    "        return torch.mean(torch.square(init_pred - init_vals))\n",
    "    \n",
    "    def left_loss():\n",
    "        return torch.mean(torch.square(left_pred - left_vals))\n",
    "    \n",
    "    def right_loss():\n",
    "        return torch.mean(torch.square(right_pred - right_vals))\n",
    "    \n",
    "    def pde_loss(u, t, x):\n",
    "        ut  = d(u,  t)\n",
    "        uxx = d(u,  x, orders = 2)\n",
    "        \n",
    "        return torch.mean(torch.square(ut - D * uxx))\n",
    "    \n",
    "    return (\n",
    "        initial_loss(), \n",
    "        left_loss(), \n",
    "        right_loss(), \n",
    "        pde_loss(coll_pred, t, x)\n",
    "    )"
   ]
  },
  {
   "cell_type": "code",
   "execution_count": 21,
   "metadata": {},
   "outputs": [],
   "source": [
    "Nt, Nx = 500, 750\n",
    "pts, values = diff_test_points_sampler(full=True)\n",
    "\n",
    "pts = [\n",
    "    pts[:,0].reshape(Nx, Nt),\n",
    "    pts[:,1].reshape(Nx, Nt)\n",
    "]\n",
    "values = values.reshape(Nx, Nt)\n",
    "\n",
    "cstr_pts, cstr_vals = diff_constraints_sampler()\n",
    "stacked_pts = torch.cat([torch.hstack([t[:, [1]], t[:, [0]]]) for t in cstr_pts])\n",
    "stacked_vals = torch.cat(cstr_vals)\n",
    "constraints = torch.hstack([stacked_pts, stacked_vals.reshape(-1, 1)]).T\n",
    "\n",
    "def train_diff(gridit, lr = 1e-2, loss_coefs = [0.75, 0.75, 0.75, 0.25], plot = True):\n",
    "\n",
    "    pinn = KAN([2, 10, 1], grid = 5)\n",
    "    \n",
    "    trainer = Trainer(\n",
    "        diff_loss,\n",
    "        pinn,\n",
    "        diff_constraints_sampler,\n",
    "        diff_collocation_sampler,\n",
    "        loss_coefs=loss_coefs,    # Coefficients are very important.\n",
    "        test_points_sampler=diff_test_points_sampler\n",
    "    )\n",
    "    \n",
    "    for i, (grid, it) in enumerate(gridit):\n",
    "    \n",
    "        points, _ = diff_test_points_sampler()\n",
    "\n",
    "        pinn = KAN([2, 10, 1], grid = grid).initialize_from_another_model(trainer.model, points)\n",
    "        trainer.model = pinn\n",
    "            \n",
    "        adam = Adam(pinn, lr = lr)\n",
    "        \n",
    "        # trainer.iter += 1\n",
    "        trainer.train(\n",
    "            num_iters = it,\n",
    "            optimizers=[(0, adam)]\n",
    "        )\n",
    "        \n",
    "    error = trainer.evaluate(l2, full = True)\n",
    "    # print(f'Error is {error:.5f}')\n",
    "    \n",
    "    if plot:\n",
    "        fig = plt.figure(figsize=(12, 5))\n",
    "\n",
    "        ax = fig.add_subplot(121)\n",
    "        ax.plot(trainer.loss_history, label='Loss')\n",
    "        # ax.plot(range(0, trainer.iter + 1, 1), trainer.error_history, label='Error')\n",
    "        ax.grid()\n",
    "        ax.set_yscale('log')\n",
    "        ax.legend()\n",
    "\n",
    "        preds = pinn.predict(diff_test_points_sampler(full=True)[0]).detach().reshape(Nx, Nt)\n",
    "\n",
    "        ax = fig.add_subplot(122, projection='3d')\n",
    "        ax.plot_surface(pts[1], pts[0], preds, cmap='viridis')\n",
    "        # ax.plot_surface(pts[1], pts[0], values, cmap='viridis')\n",
    "\n",
    "        ax.scatter3D(*constraints, color='r', s=10)\n",
    "        # ax.view_init(80, -120)\n",
    "\n",
    "        plt.tight_layout()\n",
    "        plt.show()\n",
    "    \n",
    "    return error, trainer.loss_history"
   ]
  },
  {
   "cell_type": "code",
   "execution_count": 24,
   "metadata": {},
   "outputs": [
    {
     "data": {
      "application/vnd.jupyter.widget-view+json": {
       "model_id": "52e2590ca3c9410dac7a704b9cf2423a",
       "version_major": 2,
       "version_minor": 0
      },
      "text/plain": [
       "  0%|          | 0/500 [00:00<?, ?it/s]"
      ]
     },
     "metadata": {},
     "output_type": "display_data"
    },
    {
     "data": {
      "application/vnd.jupyter.widget-view+json": {
       "model_id": "19776045bc4744c2856d8c5c754b4f6e",
       "version_major": 2,
       "version_minor": 0
      },
      "text/plain": [
       "  0%|          | 0/500 [00:00<?, ?it/s]"
      ]
     },
     "metadata": {},
     "output_type": "display_data"
    },
    {
     "data": {
      "application/vnd.jupyter.widget-view+json": {
       "model_id": "2a40bf037b304d9794f4d78b2e061cd1",
       "version_major": 2,
       "version_minor": 0
      },
      "text/plain": [
       "  0%|          | 0/500 [00:00<?, ?it/s]"
      ]
     },
     "metadata": {},
     "output_type": "display_data"
    },
    {
     "data": {
      "application/vnd.jupyter.widget-view+json": {
       "model_id": "1c66e2b5368e41398bf212bee2edccc9",
       "version_major": 2,
       "version_minor": 0
      },
      "text/plain": [
       "  0%|          | 0/500 [00:00<?, ?it/s]"
      ]
     },
     "metadata": {},
     "output_type": "display_data"
    },
    {
     "data": {
      "application/vnd.jupyter.widget-view+json": {
       "model_id": "fb57a30f65924d4eb90ef9487e89d2dd",
       "version_major": 2,
       "version_minor": 0
      },
      "text/plain": [
       "  0%|          | 0/500 [00:00<?, ?it/s]"
      ]
     },
     "metadata": {},
     "output_type": "display_data"
    },
    {
     "data": {
      "application/vnd.jupyter.widget-view+json": {
       "model_id": "286baa015b1a40c0aeb47092b005afe7",
       "version_major": 2,
       "version_minor": 0
      },
      "text/plain": [
       "  0%|          | 0/500 [00:00<?, ?it/s]"
      ]
     },
     "metadata": {},
     "output_type": "display_data"
    },
    {
     "data": {
      "application/vnd.jupyter.widget-view+json": {
       "model_id": "384640d81226480daee28f6d300474fe",
       "version_major": 2,
       "version_minor": 0
      },
      "text/plain": [
       "  0%|          | 0/500 [00:00<?, ?it/s]"
      ]
     },
     "metadata": {},
     "output_type": "display_data"
    },
    {
     "data": {
      "application/vnd.jupyter.widget-view+json": {
       "model_id": "2be43e91655048c6a37f2a7c2e326edd",
       "version_major": 2,
       "version_minor": 0
      },
      "text/plain": [
       "  0%|          | 0/500 [00:00<?, ?it/s]"
      ]
     },
     "metadata": {},
     "output_type": "display_data"
    },
    {
     "data": {
      "application/vnd.jupyter.widget-view+json": {
       "model_id": "7e979a7487084541b4004c7ff3e31e38",
       "version_major": 2,
       "version_minor": 0
      },
      "text/plain": [
       "  0%|          | 0/150 [00:00<?, ?it/s]"
      ]
     },
     "metadata": {},
     "output_type": "display_data"
    },
    {
     "data": {
      "application/vnd.jupyter.widget-view+json": {
       "model_id": "2599778340234242b051333808db92b3",
       "version_major": 2,
       "version_minor": 0
      },
      "text/plain": [
       "  0%|          | 0/350 [00:00<?, ?it/s]"
      ]
     },
     "metadata": {},
     "output_type": "display_data"
    },
    {
     "data": {
      "application/vnd.jupyter.widget-view+json": {
       "model_id": "4fb819635e2c47a590d53a09448e31c9",
       "version_major": 2,
       "version_minor": 0
      },
      "text/plain": [
       "  0%|          | 0/150 [00:00<?, ?it/s]"
      ]
     },
     "metadata": {},
     "output_type": "display_data"
    },
    {
     "data": {
      "application/vnd.jupyter.widget-view+json": {
       "model_id": "96448979664c4a7aae76aee566eef8b2",
       "version_major": 2,
       "version_minor": 0
      },
      "text/plain": [
       "  0%|          | 0/350 [00:00<?, ?it/s]"
      ]
     },
     "metadata": {},
     "output_type": "display_data"
    },
    {
     "data": {
      "application/vnd.jupyter.widget-view+json": {
       "model_id": "cee068830fd348a9b08b9d0c87079d36",
       "version_major": 2,
       "version_minor": 0
      },
      "text/plain": [
       "  0%|          | 0/150 [00:00<?, ?it/s]"
      ]
     },
     "metadata": {},
     "output_type": "display_data"
    },
    {
     "data": {
      "application/vnd.jupyter.widget-view+json": {
       "model_id": "cea26b4758b2448ba7bbc6c013744454",
       "version_major": 2,
       "version_minor": 0
      },
      "text/plain": [
       "  0%|          | 0/350 [00:00<?, ?it/s]"
      ]
     },
     "metadata": {},
     "output_type": "display_data"
    },
    {
     "data": {
      "application/vnd.jupyter.widget-view+json": {
       "model_id": "946c231301544c59b7ffe535f58f066f",
       "version_major": 2,
       "version_minor": 0
      },
      "text/plain": [
       "  0%|          | 0/150 [00:00<?, ?it/s]"
      ]
     },
     "metadata": {},
     "output_type": "display_data"
    },
    {
     "data": {
      "application/vnd.jupyter.widget-view+json": {
       "model_id": "65e2210cd4f8480083cdaa3317f1d398",
       "version_major": 2,
       "version_minor": 0
      },
      "text/plain": [
       "  0%|          | 0/350 [00:00<?, ?it/s]"
      ]
     },
     "metadata": {},
     "output_type": "display_data"
    },
    {
     "data": {
      "application/vnd.jupyter.widget-view+json": {
       "model_id": "858a1a70a68046cbbf89d9b975b530ec",
       "version_major": 2,
       "version_minor": 0
      },
      "text/plain": [
       "  0%|          | 0/150 [00:00<?, ?it/s]"
      ]
     },
     "metadata": {},
     "output_type": "display_data"
    },
    {
     "data": {
      "application/vnd.jupyter.widget-view+json": {
       "model_id": "ba6cf9713210494eb10570b0eb127c0b",
       "version_major": 2,
       "version_minor": 0
      },
      "text/plain": [
       "  0%|          | 0/350 [00:00<?, ?it/s]"
      ]
     },
     "metadata": {},
     "output_type": "display_data"
    },
    {
     "data": {
      "application/vnd.jupyter.widget-view+json": {
       "model_id": "c21cb2642dd24edd95a2cc25f95aa530",
       "version_major": 2,
       "version_minor": 0
      },
      "text/plain": [
       "  0%|          | 0/150 [00:00<?, ?it/s]"
      ]
     },
     "metadata": {},
     "output_type": "display_data"
    },
    {
     "data": {
      "application/vnd.jupyter.widget-view+json": {
       "model_id": "e31c03786d9e4610b86dfa01b49df57f",
       "version_major": 2,
       "version_minor": 0
      },
      "text/plain": [
       "  0%|          | 0/350 [00:00<?, ?it/s]"
      ]
     },
     "metadata": {},
     "output_type": "display_data"
    },
    {
     "data": {
      "application/vnd.jupyter.widget-view+json": {
       "model_id": "9e4f052f2e2040d884cacaacd43344eb",
       "version_major": 2,
       "version_minor": 0
      },
      "text/plain": [
       "  0%|          | 0/150 [00:00<?, ?it/s]"
      ]
     },
     "metadata": {},
     "output_type": "display_data"
    },
    {
     "data": {
      "application/vnd.jupyter.widget-view+json": {
       "model_id": "ae711b57bc0744afa26483e4f43065f8",
       "version_major": 2,
       "version_minor": 0
      },
      "text/plain": [
       "  0%|          | 0/350 [00:00<?, ?it/s]"
      ]
     },
     "metadata": {},
     "output_type": "display_data"
    },
    {
     "data": {
      "application/vnd.jupyter.widget-view+json": {
       "model_id": "041a248acedb4500b944183abe0e41f7",
       "version_major": 2,
       "version_minor": 0
      },
      "text/plain": [
       "  0%|          | 0/150 [00:00<?, ?it/s]"
      ]
     },
     "metadata": {},
     "output_type": "display_data"
    },
    {
     "data": {
      "application/vnd.jupyter.widget-view+json": {
       "model_id": "5772acfedcc74a958fecae1c9b8cfea3",
       "version_major": 2,
       "version_minor": 0
      },
      "text/plain": [
       "  0%|          | 0/350 [00:00<?, ?it/s]"
      ]
     },
     "metadata": {},
     "output_type": "display_data"
    },
    {
     "data": {
      "application/vnd.jupyter.widget-view+json": {
       "model_id": "51afd2815a694a33a9a45949b7b24f6f",
       "version_major": 2,
       "version_minor": 0
      },
      "text/plain": [
       "  0%|          | 0/150 [00:00<?, ?it/s]"
      ]
     },
     "metadata": {},
     "output_type": "display_data"
    },
    {
     "data": {
      "application/vnd.jupyter.widget-view+json": {
       "model_id": "64f8575e5ffa4d2e9fa1edb744863fbf",
       "version_major": 2,
       "version_minor": 0
      },
      "text/plain": [
       "  0%|          | 0/350 [00:00<?, ?it/s]"
      ]
     },
     "metadata": {},
     "output_type": "display_data"
    },
    {
     "data": {
      "application/vnd.jupyter.widget-view+json": {
       "model_id": "aedf946bab254f5182381d67ab162b6c",
       "version_major": 2,
       "version_minor": 0
      },
      "text/plain": [
       "  0%|          | 0/150 [00:00<?, ?it/s]"
      ]
     },
     "metadata": {},
     "output_type": "display_data"
    },
    {
     "data": {
      "application/vnd.jupyter.widget-view+json": {
       "model_id": "a9e0b47da21346b2896cdca95ef2effe",
       "version_major": 2,
       "version_minor": 0
      },
      "text/plain": [
       "  0%|          | 0/350 [00:00<?, ?it/s]"
      ]
     },
     "metadata": {},
     "output_type": "display_data"
    },
    {
     "data": {
      "application/vnd.jupyter.widget-view+json": {
       "model_id": "c004120d80874f1c8ae1a5bf6d03d410",
       "version_major": 2,
       "version_minor": 0
      },
      "text/plain": [
       "  0%|          | 0/250 [00:00<?, ?it/s]"
      ]
     },
     "metadata": {},
     "output_type": "display_data"
    },
    {
     "data": {
      "application/vnd.jupyter.widget-view+json": {
       "model_id": "f7474ff65a6a4b8fa726e6de609a4c1e",
       "version_major": 2,
       "version_minor": 0
      },
      "text/plain": [
       "  0%|          | 0/250 [00:00<?, ?it/s]"
      ]
     },
     "metadata": {},
     "output_type": "display_data"
    },
    {
     "data": {
      "application/vnd.jupyter.widget-view+json": {
       "model_id": "0ab6baf8742b4213b0197948a9547443",
       "version_major": 2,
       "version_minor": 0
      },
      "text/plain": [
       "  0%|          | 0/250 [00:00<?, ?it/s]"
      ]
     },
     "metadata": {},
     "output_type": "display_data"
    },
    {
     "data": {
      "application/vnd.jupyter.widget-view+json": {
       "model_id": "90b64266ad384e859ab2b88a240797a0",
       "version_major": 2,
       "version_minor": 0
      },
      "text/plain": [
       "  0%|          | 0/250 [00:00<?, ?it/s]"
      ]
     },
     "metadata": {},
     "output_type": "display_data"
    },
    {
     "data": {
      "application/vnd.jupyter.widget-view+json": {
       "model_id": "7391c7f1220348ef97da0b6bf3892ae0",
       "version_major": 2,
       "version_minor": 0
      },
      "text/plain": [
       "  0%|          | 0/250 [00:00<?, ?it/s]"
      ]
     },
     "metadata": {},
     "output_type": "display_data"
    },
    {
     "data": {
      "application/vnd.jupyter.widget-view+json": {
       "model_id": "c41f059b1c5c41ab838a34a3d8610650",
       "version_major": 2,
       "version_minor": 0
      },
      "text/plain": [
       "  0%|          | 0/250 [00:00<?, ?it/s]"
      ]
     },
     "metadata": {},
     "output_type": "display_data"
    },
    {
     "data": {
      "application/vnd.jupyter.widget-view+json": {
       "model_id": "4e0b70358e2349c8a151c96ed21d430a",
       "version_major": 2,
       "version_minor": 0
      },
      "text/plain": [
       "  0%|          | 0/250 [00:00<?, ?it/s]"
      ]
     },
     "metadata": {},
     "output_type": "display_data"
    },
    {
     "data": {
      "application/vnd.jupyter.widget-view+json": {
       "model_id": "6647ae2cecfc4b6492f23bd48409f638",
       "version_major": 2,
       "version_minor": 0
      },
      "text/plain": [
       "  0%|          | 0/250 [00:00<?, ?it/s]"
      ]
     },
     "metadata": {},
     "output_type": "display_data"
    },
    {
     "data": {
      "application/vnd.jupyter.widget-view+json": {
       "model_id": "5d41a7874f0949fa9a6ef3362a432496",
       "version_major": 2,
       "version_minor": 0
      },
      "text/plain": [
       "  0%|          | 0/250 [00:00<?, ?it/s]"
      ]
     },
     "metadata": {},
     "output_type": "display_data"
    },
    {
     "data": {
      "application/vnd.jupyter.widget-view+json": {
       "model_id": "658e3388227a4102b922992815c0fc9e",
       "version_major": 2,
       "version_minor": 0
      },
      "text/plain": [
       "  0%|          | 0/250 [00:00<?, ?it/s]"
      ]
     },
     "metadata": {},
     "output_type": "display_data"
    },
    {
     "data": {
      "application/vnd.jupyter.widget-view+json": {
       "model_id": "f1641f2ef61a4f148395eba356070884",
       "version_major": 2,
       "version_minor": 0
      },
      "text/plain": [
       "  0%|          | 0/250 [00:00<?, ?it/s]"
      ]
     },
     "metadata": {},
     "output_type": "display_data"
    },
    {
     "data": {
      "application/vnd.jupyter.widget-view+json": {
       "model_id": "d71e3d322bf74edab14608451f2d17be",
       "version_major": 2,
       "version_minor": 0
      },
      "text/plain": [
       "  0%|          | 0/250 [00:00<?, ?it/s]"
      ]
     },
     "metadata": {},
     "output_type": "display_data"
    },
    {
     "data": {
      "application/vnd.jupyter.widget-view+json": {
       "model_id": "3b4840e40d314398a23d1b269d5db361",
       "version_major": 2,
       "version_minor": 0
      },
      "text/plain": [
       "  0%|          | 0/250 [00:00<?, ?it/s]"
      ]
     },
     "metadata": {},
     "output_type": "display_data"
    },
    {
     "data": {
      "application/vnd.jupyter.widget-view+json": {
       "model_id": "68d404691da2448f9216eed50a50bdcc",
       "version_major": 2,
       "version_minor": 0
      },
      "text/plain": [
       "  0%|          | 0/250 [00:00<?, ?it/s]"
      ]
     },
     "metadata": {},
     "output_type": "display_data"
    },
    {
     "data": {
      "application/vnd.jupyter.widget-view+json": {
       "model_id": "c19e8ded9fc64e5b80ec132d3c1e72a5",
       "version_major": 2,
       "version_minor": 0
      },
      "text/plain": [
       "  0%|          | 0/250 [00:00<?, ?it/s]"
      ]
     },
     "metadata": {},
     "output_type": "display_data"
    },
    {
     "data": {
      "application/vnd.jupyter.widget-view+json": {
       "model_id": "6cccda6592174a3aae8556634080ec57",
       "version_major": 2,
       "version_minor": 0
      },
      "text/plain": [
       "  0%|          | 0/250 [00:00<?, ?it/s]"
      ]
     },
     "metadata": {},
     "output_type": "display_data"
    },
    {
     "data": {
      "application/vnd.jupyter.widget-view+json": {
       "model_id": "ca7d30ec7ba9487eaa522f5fee7ca1e6",
       "version_major": 2,
       "version_minor": 0
      },
      "text/plain": [
       "  0%|          | 0/250 [00:00<?, ?it/s]"
      ]
     },
     "metadata": {},
     "output_type": "display_data"
    },
    {
     "data": {
      "application/vnd.jupyter.widget-view+json": {
       "model_id": "c6711bb34b374b728e2e96644ba02557",
       "version_major": 2,
       "version_minor": 0
      },
      "text/plain": [
       "  0%|          | 0/250 [00:00<?, ?it/s]"
      ]
     },
     "metadata": {},
     "output_type": "display_data"
    },
    {
     "data": {
      "application/vnd.jupyter.widget-view+json": {
       "model_id": "0af495f76ab24eb88d0ca151939841d8",
       "version_major": 2,
       "version_minor": 0
      },
      "text/plain": [
       "  0%|          | 0/250 [00:00<?, ?it/s]"
      ]
     },
     "metadata": {},
     "output_type": "display_data"
    },
    {
     "data": {
      "application/vnd.jupyter.widget-view+json": {
       "model_id": "4ba64ee15d834de0897d6431d4221780",
       "version_major": 2,
       "version_minor": 0
      },
      "text/plain": [
       "  0%|          | 0/250 [00:00<?, ?it/s]"
      ]
     },
     "metadata": {},
     "output_type": "display_data"
    },
    {
     "data": {
      "application/vnd.jupyter.widget-view+json": {
       "model_id": "e7df9e034d134493bdf1d11b87d3da6e",
       "version_major": 2,
       "version_minor": 0
      },
      "text/plain": [
       "  0%|          | 0/350 [00:00<?, ?it/s]"
      ]
     },
     "metadata": {},
     "output_type": "display_data"
    },
    {
     "data": {
      "application/vnd.jupyter.widget-view+json": {
       "model_id": "edc163acf55d4395aff139ce6d1588ea",
       "version_major": 2,
       "version_minor": 0
      },
      "text/plain": [
       "  0%|          | 0/350 [00:00<?, ?it/s]"
      ]
     },
     "metadata": {},
     "output_type": "display_data"
    },
    {
     "data": {
      "application/vnd.jupyter.widget-view+json": {
       "model_id": "8e896a7cde5f4244a308c2be0634cc8b",
       "version_major": 2,
       "version_minor": 0
      },
      "text/plain": [
       "  0%|          | 0/350 [00:00<?, ?it/s]"
      ]
     },
     "metadata": {},
     "output_type": "display_data"
    },
    {
     "data": {
      "application/vnd.jupyter.widget-view+json": {
       "model_id": "32b96b9a502d423486b07bfe3be60ed0",
       "version_major": 2,
       "version_minor": 0
      },
      "text/plain": [
       "  0%|          | 0/350 [00:00<?, ?it/s]"
      ]
     },
     "metadata": {},
     "output_type": "display_data"
    },
    {
     "data": {
      "application/vnd.jupyter.widget-view+json": {
       "model_id": "b45fa092204943e4b10a4d1df2b5bf3e",
       "version_major": 2,
       "version_minor": 0
      },
      "text/plain": [
       "  0%|          | 0/350 [00:00<?, ?it/s]"
      ]
     },
     "metadata": {},
     "output_type": "display_data"
    },
    {
     "data": {
      "application/vnd.jupyter.widget-view+json": {
       "model_id": "38359915d3c34ca282e56bacadc1fcc4",
       "version_major": 2,
       "version_minor": 0
      },
      "text/plain": [
       "  0%|          | 0/150 [00:00<?, ?it/s]"
      ]
     },
     "metadata": {},
     "output_type": "display_data"
    },
    {
     "data": {
      "application/vnd.jupyter.widget-view+json": {
       "model_id": "91c6e33365e8410cb9884364bae78bab",
       "version_major": 2,
       "version_minor": 0
      },
      "text/plain": [
       "  0%|          | 0/350 [00:00<?, ?it/s]"
      ]
     },
     "metadata": {},
     "output_type": "display_data"
    },
    {
     "data": {
      "application/vnd.jupyter.widget-view+json": {
       "model_id": "571182e1b46644c985a87f5836ee99c4",
       "version_major": 2,
       "version_minor": 0
      },
      "text/plain": [
       "  0%|          | 0/150 [00:00<?, ?it/s]"
      ]
     },
     "metadata": {},
     "output_type": "display_data"
    },
    {
     "data": {
      "application/vnd.jupyter.widget-view+json": {
       "model_id": "7db9b7fd29124d338bca96e11c5d9f2a",
       "version_major": 2,
       "version_minor": 0
      },
      "text/plain": [
       "  0%|          | 0/450 [00:00<?, ?it/s]"
      ]
     },
     "metadata": {},
     "output_type": "display_data"
    },
    {
     "data": {
      "application/vnd.jupyter.widget-view+json": {
       "model_id": "1a811e2c69b747efb3749056cf325a03",
       "version_major": 2,
       "version_minor": 0
      },
      "text/plain": [
       "  0%|          | 0/50 [00:00<?, ?it/s]"
      ]
     },
     "metadata": {},
     "output_type": "display_data"
    },
    {
     "data": {
      "application/vnd.jupyter.widget-view+json": {
       "model_id": "5087861fe7ce483eba35421bf8d858fa",
       "version_major": 2,
       "version_minor": 0
      },
      "text/plain": [
       "  0%|          | 0/450 [00:00<?, ?it/s]"
      ]
     },
     "metadata": {},
     "output_type": "display_data"
    },
    {
     "data": {
      "application/vnd.jupyter.widget-view+json": {
       "model_id": "c1f077957708468bb2d0cc5bfaba9114",
       "version_major": 2,
       "version_minor": 0
      },
      "text/plain": [
       "  0%|          | 0/50 [00:00<?, ?it/s]"
      ]
     },
     "metadata": {},
     "output_type": "display_data"
    },
    {
     "name": "stdout",
     "output_type": "stream",
     "text": [
      "+------------------------+-----------+------------+\n",
      "|          Name          | DHO Error | DIFF Error |\n",
      "+------------------------+-----------+------------+\n",
      "|       [(2, 500)]       |    3.31   |   37.49    |\n",
      "|       [(5, 500)]       |    2.98   |   10.08    |\n",
      "|      [(10, 500)]       |    2.29   |    5.92    |\n",
      "|      [(20, 500)]       |    1.99   |    5.63    |\n",
      "|  [(2, 150), (5, 350)]  |    3.38   |   14.15    |\n",
      "| [(2, 150), (20, 350)]  |    5.2    |    7.33    |\n",
      "| [(5, 150), (10, 350)]  |    3.3    |    5.2     |\n",
      "| [(5, 150), (20, 350)]  |    1.62   |    5.03    |\n",
      "| [(10, 150), (20, 350)] |    1.65   |   10.34    |\n",
      "|  [(2, 250), (5, 250)]  |    3.51   |   22.84    |\n",
      "| [(2, 250), (10, 250)]  |    3.6    |   11.07    |\n",
      "| [(2, 250), (20, 250)]  |    3.17   |   11.16    |\n",
      "| [(5, 250), (20, 250)]  |    1.64   |    4.84    |\n",
      "| [(10, 250), (20, 250)] |    1.6    |    6.33    |\n",
      "|  [(2, 350), (5, 350)]  |    3.41   |   12.56    |\n",
      "| [(5, 350), (20, 150)]  |    5.8    |   10.77    |\n",
      "|  [(2, 450), (10, 50)]  |   10.07   |   84.53    |\n",
      "+------------------------+-----------+------------+\n"
     ]
    }
   ],
   "source": [
    "table = PrettyTable(['Name', 'DHO Error', 'DIFF Error'])\n",
    "\n",
    "for gridit in gridits:\n",
    "    dho_error, _ = train_dho(gridit, lr = 1e-2, plot = False)\n",
    "    diff_error, _ = train_diff(gridit, lr = 1e-2, plot = False)\n",
    "    table.add_row([str(gridit), np.round(dho_error, decimals=2), np.round(diff_error, decimals=2)])\n",
    "\n",
    "# table.sortby = 'Error'\n",
    "print(table)"
   ]
  },
  {
   "cell_type": "code",
   "execution_count": 26,
   "metadata": {},
   "outputs": [
    {
     "name": "stdout",
     "output_type": "stream",
     "text": [
      "+------------------------+-----------+------------+\n",
      "|          Name          | DHO Error | DIFF Error |\n",
      "+------------------------+-----------+------------+\n",
      "| [(10, 250), (20, 250)] |    1.6    |    6.33    |\n",
      "| [(5, 150), (20, 350)]  |    1.62   |    5.03    |\n",
      "| [(5, 250), (20, 250)]  |    1.64   |    4.84    |\n",
      "| [(10, 150), (20, 350)] |    1.65   |   10.34    |\n",
      "|      [(20, 500)]       |    1.99   |    5.63    |\n",
      "|      [(10, 500)]       |    2.29   |    5.92    |\n",
      "|       [(5, 500)]       |    2.98   |   10.08    |\n",
      "| [(2, 250), (20, 250)]  |    3.17   |   11.16    |\n",
      "| [(5, 150), (10, 350)]  |    3.3    |    5.2     |\n",
      "|       [(2, 500)]       |    3.31   |   37.49    |\n",
      "|  [(2, 150), (5, 350)]  |    3.38   |   14.15    |\n",
      "|  [(2, 350), (5, 350)]  |    3.41   |   12.56    |\n",
      "|  [(2, 250), (5, 250)]  |    3.51   |   22.84    |\n",
      "| [(2, 250), (10, 250)]  |    3.6    |   11.07    |\n",
      "| [(2, 150), (20, 350)]  |    5.2    |    7.33    |\n",
      "| [(5, 350), (20, 150)]  |    5.8    |   10.77    |\n",
      "|  [(2, 450), (10, 50)]  |   10.07   |   84.53    |\n",
      "+------------------------+-----------+------------+\n"
     ]
    }
   ],
   "source": [
    "table.sortby = 'DHO Error'\n",
    "print(table)"
   ]
  },
  {
   "cell_type": "code",
   "execution_count": 27,
   "metadata": {},
   "outputs": [
    {
     "name": "stdout",
     "output_type": "stream",
     "text": [
      "+------------------------+-----------+------------+\n",
      "|          Name          | DHO Error | DIFF Error |\n",
      "+------------------------+-----------+------------+\n",
      "| [(5, 250), (20, 250)]  |    1.64   |    4.84    |\n",
      "| [(5, 150), (20, 350)]  |    1.62   |    5.03    |\n",
      "| [(5, 150), (10, 350)]  |    3.3    |    5.2     |\n",
      "|      [(20, 500)]       |    1.99   |    5.63    |\n",
      "|      [(10, 500)]       |    2.29   |    5.92    |\n",
      "| [(10, 250), (20, 250)] |    1.6    |    6.33    |\n",
      "| [(2, 150), (20, 350)]  |    5.2    |    7.33    |\n",
      "|       [(5, 500)]       |    2.98   |   10.08    |\n",
      "| [(10, 150), (20, 350)] |    1.65   |   10.34    |\n",
      "| [(5, 350), (20, 150)]  |    5.8    |   10.77    |\n",
      "| [(2, 250), (10, 250)]  |    3.6    |   11.07    |\n",
      "| [(2, 250), (20, 250)]  |    3.17   |   11.16    |\n",
      "|  [(2, 350), (5, 350)]  |    3.41   |   12.56    |\n",
      "|  [(2, 150), (5, 350)]  |    3.38   |   14.15    |\n",
      "|  [(2, 250), (5, 250)]  |    3.51   |   22.84    |\n",
      "|       [(2, 500)]       |    3.31   |   37.49    |\n",
      "|  [(2, 450), (10, 50)]  |   10.07   |   84.53    |\n",
      "+------------------------+-----------+------------+\n"
     ]
    }
   ],
   "source": [
    "table.sortby = 'DIFF Error'\n",
    "print(table)"
   ]
  },
  {
   "cell_type": "code",
   "execution_count": 25,
   "metadata": {},
   "outputs": [],
   "source": [
    "with open('test.csv', 'w', newline='') as f_output:\n",
    "    f_output.write(table.get_csv_string())"
   ]
  },
  {
   "cell_type": "code",
   "execution_count": null,
   "metadata": {},
   "outputs": [],
   "source": []
  }
 ],
 "metadata": {
  "kernelspec": {
   "display_name": "Python 3",
   "language": "python",
   "name": "python3"
  },
  "language_info": {
   "codemirror_mode": {
    "name": "ipython",
    "version": 3
   },
   "file_extension": ".py",
   "mimetype": "text/x-python",
   "name": "python",
   "nbconvert_exporter": "python",
   "pygments_lexer": "ipython3",
   "version": "3.11.6"
  }
 },
 "nbformat": 4,
 "nbformat_minor": 2
}
