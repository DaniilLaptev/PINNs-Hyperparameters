{
 "cells": [
  {
   "cell_type": "code",
   "execution_count": 1,
   "metadata": {},
   "outputs": [],
   "source": [
    "import numpy as np\n",
    "\n",
    "import matplotlib as mpl\n",
    "import matplotlib.pyplot as plt\n",
    "import scienceplots\n",
    "plt.style.use(['science', 'grid'])\n",
    "mpl.rcParams[\"font.size\"] = \"12\"\n",
    "\n",
    "import torch\n",
    "import torch.nn.init as init\n",
    "\n",
    "from modules.utils import FeedForwardNetwork, plot_ode, plot_losses, rmse\n",
    "from modules.problems import LotkaVolterra"
   ]
  },
  {
   "cell_type": "code",
   "execution_count": 3,
   "metadata": {},
   "outputs": [],
   "source": [
    "def train(\n",
    "    problem,\n",
    "    model,\n",
    "    w1, w2, w3, num_iters, N_D, lr,\n",
    "    collect_every=1000, print_every=1000, save_every=1000\n",
    "):\n",
    "    collocation_points = torch.linspace(0, problem.T, N_D, requires_grad=True).reshape(-1, 1)\n",
    "\n",
    "    optimizer = torch.optim.Adam(model.parameters(), lr=lr)\n",
    "\n",
    "    losses, errors = [], []\n",
    "\n",
    "    for i in range(num_iters + 1):\n",
    "\n",
    "        optimizer.zero_grad()\n",
    "\n",
    "        L_I = problem.loss_initial(model)\n",
    "        L_X, L_Y = problem.loss_physical(model, collocation_points)\n",
    "\n",
    "        L = w1 * L_I + w2 * L_X + w3 * L_Y\n",
    "\n",
    "        L.backward()\n",
    "        optimizer.step()\n",
    "        \n",
    "        if i % collect_every == 0:\n",
    "            preds = model(problem.t.reshape(-1, 1)).detach().numpy()\n",
    "            x = preds[:,0].flatten()\n",
    "            y = preds[:,1].flatten()\n",
    "\n",
    "            error_x = rmse(x, problem.solution[0])\n",
    "            error_y = rmse(y, problem.solution[1])\n",
    "\n",
    "            losses.append(np.array([L_I.item(), L_X.item(), L_Y.item(), L.item()]))\n",
    "            errors.append(np.array([error_x, error_y]))\n",
    "        \n",
    "        if i % print_every == 0:\n",
    "            print(f'Iteration {i} --- {error_x}, {error_y}')\n",
    "    \n",
    "    return np.array(losses), np.array(errors)"
   ]
  },
  {
   "cell_type": "code",
   "execution_count": null,
   "metadata": {},
   "outputs": [],
   "source": [
    "T = 35\n",
    "alpha, beta, delta, gamma = 0.4, 0.1, 0.1, 0.6\n",
    "x_0, y_0 = 10, 5\n",
    "problem = LotkaVolterra(T, (alpha, beta, delta, gamma), [x_0, y_0])\n",
    "\n",
    "plot_ode(problem.t.numpy(), [(problem.solution[0], r'$x(t)$'), ((problem.solution[1], r'$y(t)$'))], size=(5, 3))"
   ]
  },
  {
   "cell_type": "code",
   "execution_count": null,
   "metadata": {},
   "outputs": [],
   "source": [
    "L, W = 4, 64\n",
    "model = FeedForwardNetwork(L, W, input_dim=1, output_dim=2)\n",
    "model.init_weights(init.zeros_)\n",
    "\n",
    "w1, w2, w3 = 1, 2, 2\n",
    "num_iters = 10000\n",
    "N_D = 3072\n",
    "lr = 1e-2\n",
    "collect_every = 500\n",
    "\n",
    "losses, errors = train(\n",
    "    problem,\n",
    "    model,\n",
    "    w1, w2, w3, num_iters, N_D, lr,\n",
    "    collect_every=collect_every, print_every=2500\n",
    ")"
   ]
  },
  {
   "cell_type": "code",
   "execution_count": null,
   "metadata": {},
   "outputs": [],
   "source": [
    "preds = model(problem.t.reshape(-1, 1)).detach().numpy()\n",
    "x = preds[:,0].flatten()\n",
    "y = preds[:,1].flatten()\n",
    "\n",
    "plot_ode(\n",
    "    problem.t.numpy(), \n",
    "    solutions=[(problem.solution[0], r'$x(t)$'), (problem.solution[1], r'$y(t)$')],\n",
    "    predicted=[(x, r'$\\mathcal{X}(t)$'), (y, r'$\\mathcal{Y}(t)$')],\n",
    "    title='Lotka-Volterra System', size=(5, 3)\n",
    ")"
   ]
  },
  {
   "cell_type": "code",
   "execution_count": null,
   "metadata": {},
   "outputs": [],
   "source": [
    "plot_losses(\n",
    "    np.arange(0, num_iters+1, collect_every),\n",
    "    losses=[\n",
    "        (losses[:,0], r'$\\mathcal{L_I}$'),\n",
    "        (losses[:,1], r'$\\mathcal{L_X}$'),\n",
    "        (losses[:,2], r'$\\mathcal{L_Y}$'),\n",
    "        (losses[:,3], r'$\\mathcal{L_T}$')\n",
    "    ],\n",
    "    errors=[\n",
    "        (errors[:,0], r'$\\mathcal{X}(t)$'),\n",
    "        (errors[:,1], r'$\\mathcal{Y}(t)$')\n",
    "    ]\n",
    ")"
   ]
  },
  {
   "cell_type": "code",
   "execution_count": null,
   "metadata": {},
   "outputs": [],
   "source": []
  }
 ],
 "metadata": {
  "kernelspec": {
   "display_name": "Python 3",
   "language": "python",
   "name": "python3"
  },
  "language_info": {
   "codemirror_mode": {
    "name": "ipython",
    "version": 3
   },
   "file_extension": ".py",
   "mimetype": "text/x-python",
   "name": "python",
   "nbconvert_exporter": "python",
   "pygments_lexer": "ipython3",
   "version": "3.11.6"
  }
 },
 "nbformat": 4,
 "nbformat_minor": 2
}
