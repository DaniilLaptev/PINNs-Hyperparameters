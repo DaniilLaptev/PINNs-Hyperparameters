{
 "cells": [
  {
   "cell_type": "code",
   "execution_count": 2,
   "metadata": {},
   "outputs": [],
   "source": [
    "import numpy as np\n",
    "\n",
    "import matplotlib as mpl\n",
    "import matplotlib.pyplot as plt\n",
    "import scienceplots\n",
    "plt.style.use(['science'])\n",
    "mpl.rcParams[\"font.size\"] = \"12\"\n",
    "\n",
    "import torch\n",
    "import torch.nn.init as init\n",
    "\n",
    "from modules.utils import FeedForwardNetwork, plot_pde, plot_losses, rmse\n",
    "from modules.problems import Diffusion"
   ]
  },
  {
   "cell_type": "code",
   "execution_count": 6,
   "metadata": {},
   "outputs": [],
   "source": [
    "def train(\n",
    "    problem,\n",
    "    model,\n",
    "    N_LB, N_RB, N_I, N_D,\n",
    "    coef, lr, num_iters,\n",
    "    print_every=1000, collect_every=1000\n",
    "):\n",
    "    x_sampled = torch.tensor(np.random.uniform(problem.L, problem.R, N_I), dtype=torch.float32)\n",
    "    t_left_sampled =  torch.tensor(np.random.uniform(0, problem.T, N_LB), dtype=torch.float32)\n",
    "    t_right_sampled = torch.tensor(np.random.uniform(0, problem.T, N_RB), dtype=torch.float32)\n",
    "    \n",
    "    def nearest_index(array, values):\n",
    "            values = [np.abs(array - v).argmin().item() for v in values]\n",
    "            return values\n",
    "    \n",
    "    problem.left_values =  problem.left_boundary [nearest_index(problem.t, t_left_sampled) ]\n",
    "    problem.right_values = problem.right_boundary[nearest_index(problem.t, t_right_sampled)]\n",
    "    problem.init_values =  problem.initial_values[nearest_index(problem.x, x_sampled)      ]\n",
    "\n",
    "    x_pts = torch.tensor(np.random.uniform(problem.L, problem.R, N_D), requires_grad=True, dtype=torch.float32).reshape(-1, 1)\n",
    "    t_pts = torch.tensor(np.random.uniform(0, problem.T, N_D), requires_grad=True, dtype=torch.float32).reshape(-1, 1)\n",
    "\n",
    "    test_points = torch.cartesian_prod(problem.x, problem.t)\n",
    "\n",
    "    optimizer = torch.optim.Adam(model.parameters(), lr=lr)\n",
    "\n",
    "    losses, errors = [], []\n",
    "\n",
    "    for i in range(num_iters + 1):\n",
    "\n",
    "        optimizer.zero_grad()\n",
    "\n",
    "        L_B, L_I = problem.loss_boundary(model, t_left_sampled, t_right_sampled, x_sampled)\n",
    "        L_D = problem.loss_physical(model, x_pts, t_pts)\n",
    "\n",
    "        total = coef * (L_B + L_I) + (1 - coef) * L_D\n",
    "\n",
    "        total.backward()\n",
    "        optimizer.step()\n",
    "                \n",
    "        if i % collect_every == 0:\n",
    "            with torch.no_grad():\n",
    "                preds = model(test_points).reshape(problem.Nx, problem.Nt).detach().numpy()\n",
    "                error = rmse(preds.T, problem.solution)\n",
    "                \n",
    "                losses.append(np.array([L_I.item(), L_B.item(), L_D.item(), total.item()]))\n",
    "                errors.append(error)\n",
    "                \n",
    "        if i % print_every == 0:\n",
    "            print(f'Iteration {i} --- Loss {total.item()} --- RMSE {error}')\n",
    "                \n",
    "    return np.array(losses), np.array(errors)"
   ]
  },
  {
   "cell_type": "code",
   "execution_count": null,
   "metadata": {},
   "outputs": [],
   "source": [
    "D = 0.5\n",
    "L, R, T = 0, 1, 0.5\n",
    "Nt, Nx = 1000, 250\n",
    "left_boundary = right_boundary = torch.zeros(Nt)\n",
    "initial_conditions = torch.sin(2 * np.pi * torch.linspace(L, R, Nx)) ** 2\n",
    "\n",
    "problem = Diffusion(\n",
    "    D, (L, R, T), (Nt, Nx),\n",
    "    (left_boundary, right_boundary, initial_conditions)\n",
    ")\n",
    "\n",
    "plot_pde(problem.x, problem.t, problem.solution, size=(6.5, 3))"
   ]
  },
  {
   "cell_type": "code",
   "execution_count": null,
   "metadata": {},
   "outputs": [],
   "source": [
    "L, W = 2, 32\n",
    "model = FeedForwardNetwork(L, W, input_dim=2, output_dim=1)\n",
    "\n",
    "N_I, N_LB, N_RB, N_D = 42, 12, 12, 1024\n",
    "coef = 0.8\n",
    "lr = 1e-3\n",
    "num_iters = 5000\n",
    "collect_every = 250\n",
    "\n",
    "losses, errors = train(\n",
    "    problem,\n",
    "    model,\n",
    "    N_LB, N_RB, N_I, N_D,\n",
    "    coef=coef, lr=lr, num_iters=num_iters,\n",
    "    collect_every=collect_every, print_every=2500\n",
    ")"
   ]
  },
  {
   "cell_type": "code",
   "execution_count": null,
   "metadata": {},
   "outputs": [],
   "source": [
    "test_points = torch.cartesian_prod(problem.x, problem.t)\n",
    "predictions = model(test_points).reshape(Nx, Nt).detach().numpy()\n",
    "plot_pde(problem.x, problem.t, predictions.T, size=(6.5, 3))"
   ]
  },
  {
   "cell_type": "code",
   "execution_count": null,
   "metadata": {},
   "outputs": [],
   "source": [
    "plot_pde(problem.x, problem.t, np.abs(predictions.T - problem.solution), size=(6.5, 3))"
   ]
  },
  {
   "cell_type": "code",
   "execution_count": null,
   "metadata": {},
   "outputs": [],
   "source": [
    "plt.style.use(['grid'])\n",
    "\n",
    "plot_losses(\n",
    "    np.arange(0, num_iters+1, collect_every),\n",
    "    losses=[\n",
    "        (losses[:,0], r'$\\mathcal{L_I}$'),\n",
    "        (losses[:,1], r'$\\mathcal{L_B}$'),\n",
    "        (losses[:,2], r'$\\mathcal{L_D}$'),\n",
    "        (losses[:,3], r'$\\mathcal{L_T}$')\n",
    "    ],\n",
    "    errors=[\n",
    "        (errors, r'RMSE'),\n",
    "    ]\n",
    ")"
   ]
  },
  {
   "cell_type": "code",
   "execution_count": null,
   "metadata": {},
   "outputs": [],
   "source": []
  }
 ],
 "metadata": {
  "kernelspec": {
   "display_name": "Python 3",
   "language": "python",
   "name": "python3"
  },
  "language_info": {
   "codemirror_mode": {
    "name": "ipython",
    "version": 3
   },
   "file_extension": ".py",
   "mimetype": "text/x-python",
   "name": "python",
   "nbconvert_exporter": "python",
   "pygments_lexer": "ipython3",
   "version": "3.11.6"
  }
 },
 "nbformat": 4,
 "nbformat_minor": 2
}
