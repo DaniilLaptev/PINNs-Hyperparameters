{
 "cells": [
  {
   "cell_type": "code",
   "execution_count": 1,
   "metadata": {},
   "outputs": [],
   "source": [
    "import numpy as np\n",
    "\n",
    "import matplotlib as mpl\n",
    "import matplotlib.pyplot as plt\n",
    "import scienceplots\n",
    "plt.style.use(['science', 'grid'])\n",
    "mpl.rcParams[\"font.size\"] = \"12\"\n",
    "\n",
    "import torch\n",
    "import torch.nn.init as init\n",
    "\n",
    "from modules.utils import FeedForwardNetwork, plot_ode, plot_losses, rmse\n",
    "from modules.problems import LorenzSystem"
   ]
  },
  {
   "cell_type": "code",
   "execution_count": 2,
   "metadata": {},
   "outputs": [],
   "source": [
    "def train(\n",
    "    problem,\n",
    "    model,\n",
    "    wi, wx, wy, wz, num_iters, N_D, lr,\n",
    "    collect_every=1000, print_every=1000\n",
    "):\n",
    "    collocation_points = torch.linspace(0, problem.T, N_D, requires_grad=True).reshape(-1, 1)\n",
    "\n",
    "    optimizer = torch.optim.Adam(model.parameters(), lr=lr)\n",
    "\n",
    "    losses, errors = [], []\n",
    "\n",
    "    for i in range(num_iters + 1):\n",
    "\n",
    "        optimizer.zero_grad()\n",
    "\n",
    "        L_I = problem.loss_initial(model)\n",
    "        L_X, L_Y, L_Z = problem.loss_physical(model, collocation_points)\n",
    "\n",
    "        L = wi * L_I + wx * L_X + wy * L_Y + wz * L_Z\n",
    "\n",
    "        L.backward()\n",
    "        optimizer.step()\n",
    "        \n",
    "        if i % collect_every == 0:\n",
    "            preds = model(problem.t.reshape(-1, 1)).detach().numpy()\n",
    "            x = preds[:,0].flatten()\n",
    "            y = preds[:,1].flatten()\n",
    "            z = preds[:,2].flatten()\n",
    "\n",
    "            error_x = rmse(x, problem.solution[0])\n",
    "            error_y = rmse(y, problem.solution[1])\n",
    "            error_z = rmse(z, problem.solution[2])\n",
    "\n",
    "            losses.append(np.array([L_I.item(), L_X.item(), L_Y.item(), L_Z.item(), L.item()]))\n",
    "            errors.append(np.array([error_x, error_y, error_z]))\n",
    "        \n",
    "        if i % print_every == 0:\n",
    "            print(f'Iteration {i} --- {error_x}, {error_y}, {error_z}')\n",
    "    \n",
    "    return np.array(losses), np.array(errors)"
   ]
  },
  {
   "cell_type": "code",
   "execution_count": null,
   "metadata": {},
   "outputs": [],
   "source": [
    "T = 1\n",
    "s, p, b = 10, 28, 8/3\n",
    "x_0, y_0, z_0 = 15, 8, 12\n",
    "test_points = 1500\n",
    "problem = LorenzSystem(T, (s, p, b), [x_0, y_0, z_0], test_points)\n",
    "\n",
    "plot_ode(\n",
    "    problem.t.numpy(), \n",
    "    [\n",
    "        (problem.solution[0], r'$x(t)$', None), \n",
    "        (problem.solution[1], r'$y(t)$', None),\n",
    "        (problem.solution[2], r'$z(t)$', None)\n",
    "    ],\n",
    "    size=(5, 3))"
   ]
  },
  {
   "cell_type": "code",
   "execution_count": null,
   "metadata": {},
   "outputs": [],
   "source": [
    "L, W = 2, 64\n",
    "model = FeedForwardNetwork(L, W, input_dim=1, output_dim=3)\n",
    "model.init_weights(init.normal_)\n",
    "\n",
    "wi, wx, wy, wz = 1, 1, 1, 1\n",
    "num_iters = 2500\n",
    "N_D = 1024*6\n",
    "lr = 1e-3\n",
    "collect_every = 250\n",
    "\n",
    "losses, errors = train(\n",
    "    problem,\n",
    "    model,\n",
    "    wi, wx, wy, wz, num_iters, N_D, lr,\n",
    "    collect_every=collect_every, print_every=500\n",
    ")"
   ]
  },
  {
   "cell_type": "code",
   "execution_count": null,
   "metadata": {},
   "outputs": [],
   "source": [
    "preds = model(problem.t.reshape(-1, 1)).detach().numpy()\n",
    "x = preds[:,0].flatten()\n",
    "y = preds[:,1].flatten()\n",
    "z = preds[:,2].flatten()\n",
    "\n",
    "plot_ode(\n",
    "    problem.t.numpy(), \n",
    "    solutions=[\n",
    "        (problem.solution[0], 'Solution', 'b'), \n",
    "        (problem.solution[1], None, 'b'),\n",
    "        (problem.solution[2], None, 'b'),\n",
    "        ],\n",
    "    predicted=[\n",
    "        (x, r'$\\mathcal{N}(t)$', 'r'), \n",
    "        (y, None, 'r'),\n",
    "        (z, None, 'r')\n",
    "        ],\n",
    "    title='Lorenz System', size=(5, 3)\n",
    ")"
   ]
  },
  {
   "cell_type": "code",
   "execution_count": null,
   "metadata": {},
   "outputs": [],
   "source": [
    "ax = plt.figure(figsize=(6, 6)).add_subplot(projection='3d')\n",
    "\n",
    "ax.plot(xs=problem.solution.T[:,0], ys=problem.solution.T[:,1], zs=problem.solution.T[:,2], lw=1)\n",
    "ax.plot(*preds.T, lw=1)\n",
    "ax.set_xlabel(\"X Axis\")\n",
    "ax.set_ylabel(\"Y Axis\")\n",
    "ax.set_zlabel(\"Z Axis\")\n",
    "ax.set_title(\"Lorenz Attractor\")\n",
    "\n",
    "plt.show()"
   ]
  },
  {
   "cell_type": "code",
   "execution_count": null,
   "metadata": {},
   "outputs": [],
   "source": [
    "plot_losses(\n",
    "    np.arange(0, num_iters+1, collect_every),\n",
    "    losses=[\n",
    "        (losses[:,0], r'$\\mathcal{L_I}$'),\n",
    "        (losses[:,1], r'$\\mathcal{L_X}$'),\n",
    "        (losses[:,2], r'$\\mathcal{L_Y}$'),\n",
    "        (losses[:,2], r'$\\mathcal{L_Z}$'),\n",
    "        (losses[:,3], r'$\\mathcal{L_T}$')\n",
    "    ],\n",
    "    errors=[\n",
    "        (errors[:,0], r'$\\mathcal{X}(t)$'),\n",
    "        (errors[:,1], r'$\\mathcal{Y}(t)$'),\n",
    "        (errors[:,2], r'$\\mathcal{Z}(t)$')\n",
    "    ]\n",
    ")"
   ]
  }
 ],
 "metadata": {
  "kernelspec": {
   "display_name": "Python 3",
   "language": "python",
   "name": "python3"
  },
  "language_info": {
   "codemirror_mode": {
    "name": "ipython",
    "version": 3
   },
   "file_extension": ".py",
   "mimetype": "text/x-python",
   "name": "python",
   "nbconvert_exporter": "python",
   "pygments_lexer": "ipython3",
   "version": "3.11.6"
  }
 },
 "nbformat": 4,
 "nbformat_minor": 2
}
