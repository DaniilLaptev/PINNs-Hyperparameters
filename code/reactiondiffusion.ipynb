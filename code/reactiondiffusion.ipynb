{
 "cells": [
  {
   "cell_type": "code",
   "execution_count": 1,
   "metadata": {},
   "outputs": [],
   "source": [
    "import numpy as np\n",
    "\n",
    "import matplotlib as mpl\n",
    "import matplotlib.pyplot as plt\n",
    "import scienceplots\n",
    "plt.style.use(['science'])\n",
    "mpl.rcParams[\"font.size\"] = \"12\"\n",
    "\n",
    "import torch\n",
    "import torch.nn.init as init\n",
    "\n",
    "from modules.utils import FeedForwardNetwork, plot_pde, plot_losses, rmse\n",
    "from modules.problems import GrayScott"
   ]
  },
  {
   "cell_type": "code",
   "execution_count": 7,
   "metadata": {},
   "outputs": [
    {
     "name": "stdout",
     "output_type": "stream",
     "text": [
      "Solving...\n"
     ]
    },
    {
     "name": "stderr",
     "output_type": "stream",
     "text": [
      "100%|██████████| 14999/14999 [00:23<00:00, 649.90it/s]\n"
     ]
    }
   ],
   "source": [
    "T = 15000\n",
    "Nx, Ny = 150, 150\n",
    "\n",
    "A_init = torch.ones((Nx, Ny))\n",
    "B_init = torch.zeros((Nx, Ny))\n",
    "points = [(np.random.randint(10, Nx - 10), np.random.randint(10, Ny - 10)) for i in range(1)]\n",
    "shapes = [(3, 3)]*len(points)\n",
    "\n",
    "B_init = GrayScott.load_initial_values(B_init, points, shapes)\n",
    "\n",
    "f, k = 0.0367, 0.0649\n",
    "ra, rb = 1.0, 0.5\n",
    "problem = GrayScott(\n",
    "    T, (f, k, ra, rb), (A_init, B_init)\n",
    ")"
   ]
  },
  {
   "cell_type": "code",
   "execution_count": 8,
   "metadata": {},
   "outputs": [],
   "source": [
    "problem.save_animation('../images/GrayScott.gif', size=(5, 5))"
   ]
  },
  {
   "cell_type": "code",
   "execution_count": null,
   "metadata": {},
   "outputs": [],
   "source": []
  }
 ],
 "metadata": {
  "kernelspec": {
   "display_name": "Python 3",
   "language": "python",
   "name": "python3"
  },
  "language_info": {
   "codemirror_mode": {
    "name": "ipython",
    "version": 3
   },
   "file_extension": ".py",
   "mimetype": "text/x-python",
   "name": "python",
   "nbconvert_exporter": "python",
   "pygments_lexer": "ipython3",
   "version": "3.11.6"
  }
 },
 "nbformat": 4,
 "nbformat_minor": 2
}
